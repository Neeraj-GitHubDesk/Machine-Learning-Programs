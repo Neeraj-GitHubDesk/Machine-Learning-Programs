{
 "cells": [
  {
   "cell_type": "markdown",
   "id": "38fb2b28",
   "metadata": {},
   "source": [
    "# Errors in Regression\n",
    "- MAE\n",
    "- MSE\n",
    "- RMSE\n",
    "- RMSLE\n",
    "- R-squared\n",
    "- Adjested R squares\n",
    "\n",
    "### Use of Evealuation Matrix\n",
    "- to evaluate model accuracy"
   ]
  },
  {
   "cell_type": "markdown",
   "id": "ac5db036",
   "metadata": {},
   "source": [
    "# Mean Absolute Error\n",
    "- (summation of |(Actual error - predicted value)|) / N\n",
    "\n",
    "### Advantage\n",
    "- you get that are in the same unit as the output variable\n",
    "- most robust to outliers\n",
    "\n",
    "### Disadvanntage\n",
    "- Graph in not differentiable, we have to apply optimizers like gradient descent to make it differentiable"
   ]
  },
  {
   "cell_type": "markdown",
   "id": "c99f9222",
   "metadata": {},
   "source": [
    "# MSE\n",
    "- Mostly used & very simple metric\n",
    "- why do we square? -- to cancell the negative terms we do squaring\n",
    "\n",
    "### Advantage \n",
    "- the graph is diffentiable\n",
    "- so easily use it as a loss function\n",
    "\n",
    "### Disadvantage\n",
    "- value which we get after calculating MSE is squared unit\n",
    "- o/p is Meter -- meter squared\n",
    "- not robust to outliers"
   ]
  },
  {
   "cell_type": "markdown",
   "id": "0bb1f34c",
   "metadata": {},
   "source": [
    "# RMSE\n",
    "- numpy - np.sqrt(mean_squared_error)\n",
    "- most of the people use rmse as an evaluation metric\n",
    "- mostly when we work on deep learning techniques we use rmse\n",
    "\n",
    "\n",
    "### Advantage\n",
    "- same unit\n",
    "\n",
    "### Disadvantage\n",
    "- not robust compared to MAE"
   ]
  },
  {
   "cell_type": "markdown",
   "id": "d91b3290",
   "metadata": {},
   "source": [
    "# RMSLE\n",
    "- Taking the log of the rmse\n",
    "- it slows down the scale of error\n",
    "- numpy - np.log(np.sqrt(mean_squared_error))\n",
    "- used for ml competition for most of the datasets"
   ]
  },
  {
   "cell_type": "markdown",
   "id": "9b7548b6",
   "metadata": {},
   "source": [
    "# R-squared (R2)\n",
    "- independent variable is capable of predicting dependednt variable\n",
    "- coefficient of Determination or goodness of fit\n",
    "- 1-SSR/SSM\n",
    "- SSR - squared some error of regression line\n",
    "- SSM - squared some error of mean line\n",
    "- CLOSER TO ZERO (0.8-0.956)\n",
    "- R-sqaure 0.8 -- model is 80% capable of predicting the dependent variable\n",
    "- from sklean.metrics import r2_score -- r2_score(y_test,y_pred)"
   ]
  },
  {
   "cell_type": "code",
   "execution_count": null,
   "id": "f3873ceb",
   "metadata": {},
   "outputs": [],
   "source": [
    "# Adjusted R2 square"
   ]
  }
 ],
 "metadata": {
  "kernelspec": {
   "display_name": "Python 3 (ipykernel)",
   "language": "python",
   "name": "python3"
  },
  "language_info": {
   "codemirror_mode": {
    "name": "ipython",
    "version": 3
   },
   "file_extension": ".py",
   "mimetype": "text/x-python",
   "name": "python",
   "nbconvert_exporter": "python",
   "pygments_lexer": "ipython3",
   "version": "3.9.12"
  }
 },
 "nbformat": 4,
 "nbformat_minor": 5
}

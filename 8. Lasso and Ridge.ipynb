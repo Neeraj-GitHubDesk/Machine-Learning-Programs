{
 "cells": [
  {
   "cell_type": "code",
   "execution_count": 1,
   "id": "88b05b96",
   "metadata": {},
   "outputs": [],
   "source": [
    "import numpy as np\n",
    "import pandas as pd\n",
    "from sklearn.datasets import load_boston\n",
    "import warnings\n",
    "warnings.filterwarnings(\"ignore\")\n",
    "from sklearn.model_selection import train_test_split\n",
    "from sklearn.linear_model import LinearRegression, Lasso, Ridge\n",
    "from sklearn.metrics import mean_squared_error"
   ]
  },
  {
   "cell_type": "code",
   "execution_count": 2,
   "id": "f066b65a",
   "metadata": {},
   "outputs": [],
   "source": [
    "df=pd.read_csv(\"HousingData.csv\")"
   ]
  },
  {
   "cell_type": "code",
   "execution_count": 3,
   "id": "d5cc71b6",
   "metadata": {},
   "outputs": [
    {
     "data": {
      "text/html": [
       "<div>\n",
       "<style scoped>\n",
       "    .dataframe tbody tr th:only-of-type {\n",
       "        vertical-align: middle;\n",
       "    }\n",
       "\n",
       "    .dataframe tbody tr th {\n",
       "        vertical-align: top;\n",
       "    }\n",
       "\n",
       "    .dataframe thead th {\n",
       "        text-align: right;\n",
       "    }\n",
       "</style>\n",
       "<table border=\"1\" class=\"dataframe\">\n",
       "  <thead>\n",
       "    <tr style=\"text-align: right;\">\n",
       "      <th></th>\n",
       "      <th>CRIM</th>\n",
       "      <th>ZN</th>\n",
       "      <th>INDUS</th>\n",
       "      <th>CHAS</th>\n",
       "      <th>NOX</th>\n",
       "      <th>RM</th>\n",
       "      <th>AGE</th>\n",
       "      <th>DIS</th>\n",
       "      <th>RAD</th>\n",
       "      <th>TAX</th>\n",
       "      <th>PTRATIO</th>\n",
       "      <th>B</th>\n",
       "      <th>LSTAT</th>\n",
       "      <th>MEDV</th>\n",
       "    </tr>\n",
       "  </thead>\n",
       "  <tbody>\n",
       "    <tr>\n",
       "      <th>0</th>\n",
       "      <td>0.00632</td>\n",
       "      <td>18.0</td>\n",
       "      <td>2.31</td>\n",
       "      <td>0.0</td>\n",
       "      <td>0.538</td>\n",
       "      <td>6.575</td>\n",
       "      <td>65.2</td>\n",
       "      <td>4.0900</td>\n",
       "      <td>1</td>\n",
       "      <td>296</td>\n",
       "      <td>15.3</td>\n",
       "      <td>396.90</td>\n",
       "      <td>4.98</td>\n",
       "      <td>24.0</td>\n",
       "    </tr>\n",
       "    <tr>\n",
       "      <th>1</th>\n",
       "      <td>0.02731</td>\n",
       "      <td>0.0</td>\n",
       "      <td>7.07</td>\n",
       "      <td>0.0</td>\n",
       "      <td>0.469</td>\n",
       "      <td>6.421</td>\n",
       "      <td>78.9</td>\n",
       "      <td>4.9671</td>\n",
       "      <td>2</td>\n",
       "      <td>242</td>\n",
       "      <td>17.8</td>\n",
       "      <td>396.90</td>\n",
       "      <td>9.14</td>\n",
       "      <td>21.6</td>\n",
       "    </tr>\n",
       "    <tr>\n",
       "      <th>2</th>\n",
       "      <td>0.02729</td>\n",
       "      <td>0.0</td>\n",
       "      <td>7.07</td>\n",
       "      <td>0.0</td>\n",
       "      <td>0.469</td>\n",
       "      <td>7.185</td>\n",
       "      <td>61.1</td>\n",
       "      <td>4.9671</td>\n",
       "      <td>2</td>\n",
       "      <td>242</td>\n",
       "      <td>17.8</td>\n",
       "      <td>392.83</td>\n",
       "      <td>4.03</td>\n",
       "      <td>34.7</td>\n",
       "    </tr>\n",
       "    <tr>\n",
       "      <th>3</th>\n",
       "      <td>0.03237</td>\n",
       "      <td>0.0</td>\n",
       "      <td>2.18</td>\n",
       "      <td>0.0</td>\n",
       "      <td>0.458</td>\n",
       "      <td>6.998</td>\n",
       "      <td>45.8</td>\n",
       "      <td>6.0622</td>\n",
       "      <td>3</td>\n",
       "      <td>222</td>\n",
       "      <td>18.7</td>\n",
       "      <td>394.63</td>\n",
       "      <td>2.94</td>\n",
       "      <td>33.4</td>\n",
       "    </tr>\n",
       "    <tr>\n",
       "      <th>4</th>\n",
       "      <td>0.06905</td>\n",
       "      <td>0.0</td>\n",
       "      <td>2.18</td>\n",
       "      <td>0.0</td>\n",
       "      <td>0.458</td>\n",
       "      <td>7.147</td>\n",
       "      <td>54.2</td>\n",
       "      <td>6.0622</td>\n",
       "      <td>3</td>\n",
       "      <td>222</td>\n",
       "      <td>18.7</td>\n",
       "      <td>396.90</td>\n",
       "      <td>NaN</td>\n",
       "      <td>36.2</td>\n",
       "    </tr>\n",
       "  </tbody>\n",
       "</table>\n",
       "</div>"
      ],
      "text/plain": [
       "      CRIM    ZN  INDUS  CHAS    NOX     RM   AGE     DIS  RAD  TAX  PTRATIO  \\\n",
       "0  0.00632  18.0   2.31   0.0  0.538  6.575  65.2  4.0900    1  296     15.3   \n",
       "1  0.02731   0.0   7.07   0.0  0.469  6.421  78.9  4.9671    2  242     17.8   \n",
       "2  0.02729   0.0   7.07   0.0  0.469  7.185  61.1  4.9671    2  242     17.8   \n",
       "3  0.03237   0.0   2.18   0.0  0.458  6.998  45.8  6.0622    3  222     18.7   \n",
       "4  0.06905   0.0   2.18   0.0  0.458  7.147  54.2  6.0622    3  222     18.7   \n",
       "\n",
       "        B  LSTAT  MEDV  \n",
       "0  396.90   4.98  24.0  \n",
       "1  396.90   9.14  21.6  \n",
       "2  392.83   4.03  34.7  \n",
       "3  394.63   2.94  33.4  \n",
       "4  396.90    NaN  36.2  "
      ]
     },
     "execution_count": 3,
     "metadata": {},
     "output_type": "execute_result"
    }
   ],
   "source": [
    "df.head()"
   ]
  },
  {
   "cell_type": "code",
   "execution_count": 4,
   "id": "7d9cf774",
   "metadata": {},
   "outputs": [],
   "source": [
    "boston = load_boston()"
   ]
  },
  {
   "cell_type": "code",
   "execution_count": 5,
   "id": "ee810c88",
   "metadata": {},
   "outputs": [],
   "source": [
    "df=pd.DataFrame(boston.data, columns=boston.feature_names)"
   ]
  },
  {
   "cell_type": "code",
   "execution_count": 6,
   "id": "8f95b347",
   "metadata": {},
   "outputs": [
    {
     "data": {
      "text/html": [
       "<div>\n",
       "<style scoped>\n",
       "    .dataframe tbody tr th:only-of-type {\n",
       "        vertical-align: middle;\n",
       "    }\n",
       "\n",
       "    .dataframe tbody tr th {\n",
       "        vertical-align: top;\n",
       "    }\n",
       "\n",
       "    .dataframe thead th {\n",
       "        text-align: right;\n",
       "    }\n",
       "</style>\n",
       "<table border=\"1\" class=\"dataframe\">\n",
       "  <thead>\n",
       "    <tr style=\"text-align: right;\">\n",
       "      <th></th>\n",
       "      <th>CRIM</th>\n",
       "      <th>ZN</th>\n",
       "      <th>INDUS</th>\n",
       "      <th>CHAS</th>\n",
       "      <th>NOX</th>\n",
       "      <th>RM</th>\n",
       "      <th>AGE</th>\n",
       "      <th>DIS</th>\n",
       "      <th>RAD</th>\n",
       "      <th>TAX</th>\n",
       "      <th>PTRATIO</th>\n",
       "      <th>B</th>\n",
       "      <th>LSTAT</th>\n",
       "    </tr>\n",
       "  </thead>\n",
       "  <tbody>\n",
       "    <tr>\n",
       "      <th>0</th>\n",
       "      <td>0.00632</td>\n",
       "      <td>18.0</td>\n",
       "      <td>2.31</td>\n",
       "      <td>0.0</td>\n",
       "      <td>0.538</td>\n",
       "      <td>6.575</td>\n",
       "      <td>65.2</td>\n",
       "      <td>4.0900</td>\n",
       "      <td>1.0</td>\n",
       "      <td>296.0</td>\n",
       "      <td>15.3</td>\n",
       "      <td>396.90</td>\n",
       "      <td>4.98</td>\n",
       "    </tr>\n",
       "    <tr>\n",
       "      <th>1</th>\n",
       "      <td>0.02731</td>\n",
       "      <td>0.0</td>\n",
       "      <td>7.07</td>\n",
       "      <td>0.0</td>\n",
       "      <td>0.469</td>\n",
       "      <td>6.421</td>\n",
       "      <td>78.9</td>\n",
       "      <td>4.9671</td>\n",
       "      <td>2.0</td>\n",
       "      <td>242.0</td>\n",
       "      <td>17.8</td>\n",
       "      <td>396.90</td>\n",
       "      <td>9.14</td>\n",
       "    </tr>\n",
       "    <tr>\n",
       "      <th>2</th>\n",
       "      <td>0.02729</td>\n",
       "      <td>0.0</td>\n",
       "      <td>7.07</td>\n",
       "      <td>0.0</td>\n",
       "      <td>0.469</td>\n",
       "      <td>7.185</td>\n",
       "      <td>61.1</td>\n",
       "      <td>4.9671</td>\n",
       "      <td>2.0</td>\n",
       "      <td>242.0</td>\n",
       "      <td>17.8</td>\n",
       "      <td>392.83</td>\n",
       "      <td>4.03</td>\n",
       "    </tr>\n",
       "    <tr>\n",
       "      <th>3</th>\n",
       "      <td>0.03237</td>\n",
       "      <td>0.0</td>\n",
       "      <td>2.18</td>\n",
       "      <td>0.0</td>\n",
       "      <td>0.458</td>\n",
       "      <td>6.998</td>\n",
       "      <td>45.8</td>\n",
       "      <td>6.0622</td>\n",
       "      <td>3.0</td>\n",
       "      <td>222.0</td>\n",
       "      <td>18.7</td>\n",
       "      <td>394.63</td>\n",
       "      <td>2.94</td>\n",
       "    </tr>\n",
       "    <tr>\n",
       "      <th>4</th>\n",
       "      <td>0.06905</td>\n",
       "      <td>0.0</td>\n",
       "      <td>2.18</td>\n",
       "      <td>0.0</td>\n",
       "      <td>0.458</td>\n",
       "      <td>7.147</td>\n",
       "      <td>54.2</td>\n",
       "      <td>6.0622</td>\n",
       "      <td>3.0</td>\n",
       "      <td>222.0</td>\n",
       "      <td>18.7</td>\n",
       "      <td>396.90</td>\n",
       "      <td>5.33</td>\n",
       "    </tr>\n",
       "  </tbody>\n",
       "</table>\n",
       "</div>"
      ],
      "text/plain": [
       "      CRIM    ZN  INDUS  CHAS    NOX     RM   AGE     DIS  RAD    TAX  \\\n",
       "0  0.00632  18.0   2.31   0.0  0.538  6.575  65.2  4.0900  1.0  296.0   \n",
       "1  0.02731   0.0   7.07   0.0  0.469  6.421  78.9  4.9671  2.0  242.0   \n",
       "2  0.02729   0.0   7.07   0.0  0.469  7.185  61.1  4.9671  2.0  242.0   \n",
       "3  0.03237   0.0   2.18   0.0  0.458  6.998  45.8  6.0622  3.0  222.0   \n",
       "4  0.06905   0.0   2.18   0.0  0.458  7.147  54.2  6.0622  3.0  222.0   \n",
       "\n",
       "   PTRATIO       B  LSTAT  \n",
       "0     15.3  396.90   4.98  \n",
       "1     17.8  396.90   9.14  \n",
       "2     17.8  392.83   4.03  \n",
       "3     18.7  394.63   2.94  \n",
       "4     18.7  396.90   5.33  "
      ]
     },
     "execution_count": 6,
     "metadata": {},
     "output_type": "execute_result"
    }
   ],
   "source": [
    "df.head()"
   ]
  },
  {
   "cell_type": "code",
   "execution_count": 7,
   "id": "e5eba7d4",
   "metadata": {},
   "outputs": [],
   "source": [
    "y=pd.DataFrame(boston.target, columns=[\"price\"])"
   ]
  },
  {
   "cell_type": "code",
   "execution_count": 8,
   "id": "917c8597",
   "metadata": {},
   "outputs": [
    {
     "data": {
      "text/plain": [
       "(506, 13)"
      ]
     },
     "execution_count": 8,
     "metadata": {},
     "output_type": "execute_result"
    }
   ],
   "source": [
    "df.shape"
   ]
  },
  {
   "cell_type": "code",
   "execution_count": 9,
   "id": "bcc222bd",
   "metadata": {},
   "outputs": [
    {
     "name": "stdout",
     "output_type": "stream",
     "text": [
      "<class 'pandas.core.frame.DataFrame'>\n",
      "RangeIndex: 506 entries, 0 to 505\n",
      "Data columns (total 13 columns):\n",
      " #   Column   Non-Null Count  Dtype  \n",
      "---  ------   --------------  -----  \n",
      " 0   CRIM     506 non-null    float64\n",
      " 1   ZN       506 non-null    float64\n",
      " 2   INDUS    506 non-null    float64\n",
      " 3   CHAS     506 non-null    float64\n",
      " 4   NOX      506 non-null    float64\n",
      " 5   RM       506 non-null    float64\n",
      " 6   AGE      506 non-null    float64\n",
      " 7   DIS      506 non-null    float64\n",
      " 8   RAD      506 non-null    float64\n",
      " 9   TAX      506 non-null    float64\n",
      " 10  PTRATIO  506 non-null    float64\n",
      " 11  B        506 non-null    float64\n",
      " 12  LSTAT    506 non-null    float64\n",
      "dtypes: float64(13)\n",
      "memory usage: 51.5 KB\n"
     ]
    }
   ],
   "source": [
    "df.info()"
   ]
  },
  {
   "cell_type": "code",
   "execution_count": 10,
   "id": "19f1a14d",
   "metadata": {},
   "outputs": [
    {
     "data": {
      "text/html": [
       "<div>\n",
       "<style scoped>\n",
       "    .dataframe tbody tr th:only-of-type {\n",
       "        vertical-align: middle;\n",
       "    }\n",
       "\n",
       "    .dataframe tbody tr th {\n",
       "        vertical-align: top;\n",
       "    }\n",
       "\n",
       "    .dataframe thead th {\n",
       "        text-align: right;\n",
       "    }\n",
       "</style>\n",
       "<table border=\"1\" class=\"dataframe\">\n",
       "  <thead>\n",
       "    <tr style=\"text-align: right;\">\n",
       "      <th></th>\n",
       "      <th>CRIM</th>\n",
       "      <th>ZN</th>\n",
       "      <th>INDUS</th>\n",
       "      <th>CHAS</th>\n",
       "      <th>NOX</th>\n",
       "      <th>RM</th>\n",
       "      <th>AGE</th>\n",
       "      <th>DIS</th>\n",
       "      <th>RAD</th>\n",
       "      <th>TAX</th>\n",
       "      <th>PTRATIO</th>\n",
       "      <th>B</th>\n",
       "      <th>LSTAT</th>\n",
       "    </tr>\n",
       "  </thead>\n",
       "  <tbody>\n",
       "    <tr>\n",
       "      <th>count</th>\n",
       "      <td>506.000000</td>\n",
       "      <td>506.000000</td>\n",
       "      <td>506.000000</td>\n",
       "      <td>506.000000</td>\n",
       "      <td>506.000000</td>\n",
       "      <td>506.000000</td>\n",
       "      <td>506.000000</td>\n",
       "      <td>506.000000</td>\n",
       "      <td>506.000000</td>\n",
       "      <td>506.000000</td>\n",
       "      <td>506.000000</td>\n",
       "      <td>506.000000</td>\n",
       "      <td>506.000000</td>\n",
       "    </tr>\n",
       "    <tr>\n",
       "      <th>mean</th>\n",
       "      <td>3.613524</td>\n",
       "      <td>11.363636</td>\n",
       "      <td>11.136779</td>\n",
       "      <td>0.069170</td>\n",
       "      <td>0.554695</td>\n",
       "      <td>6.284634</td>\n",
       "      <td>68.574901</td>\n",
       "      <td>3.795043</td>\n",
       "      <td>9.549407</td>\n",
       "      <td>408.237154</td>\n",
       "      <td>18.455534</td>\n",
       "      <td>356.674032</td>\n",
       "      <td>12.653063</td>\n",
       "    </tr>\n",
       "    <tr>\n",
       "      <th>std</th>\n",
       "      <td>8.601545</td>\n",
       "      <td>23.322453</td>\n",
       "      <td>6.860353</td>\n",
       "      <td>0.253994</td>\n",
       "      <td>0.115878</td>\n",
       "      <td>0.702617</td>\n",
       "      <td>28.148861</td>\n",
       "      <td>2.105710</td>\n",
       "      <td>8.707259</td>\n",
       "      <td>168.537116</td>\n",
       "      <td>2.164946</td>\n",
       "      <td>91.294864</td>\n",
       "      <td>7.141062</td>\n",
       "    </tr>\n",
       "    <tr>\n",
       "      <th>min</th>\n",
       "      <td>0.006320</td>\n",
       "      <td>0.000000</td>\n",
       "      <td>0.460000</td>\n",
       "      <td>0.000000</td>\n",
       "      <td>0.385000</td>\n",
       "      <td>3.561000</td>\n",
       "      <td>2.900000</td>\n",
       "      <td>1.129600</td>\n",
       "      <td>1.000000</td>\n",
       "      <td>187.000000</td>\n",
       "      <td>12.600000</td>\n",
       "      <td>0.320000</td>\n",
       "      <td>1.730000</td>\n",
       "    </tr>\n",
       "    <tr>\n",
       "      <th>25%</th>\n",
       "      <td>0.082045</td>\n",
       "      <td>0.000000</td>\n",
       "      <td>5.190000</td>\n",
       "      <td>0.000000</td>\n",
       "      <td>0.449000</td>\n",
       "      <td>5.885500</td>\n",
       "      <td>45.025000</td>\n",
       "      <td>2.100175</td>\n",
       "      <td>4.000000</td>\n",
       "      <td>279.000000</td>\n",
       "      <td>17.400000</td>\n",
       "      <td>375.377500</td>\n",
       "      <td>6.950000</td>\n",
       "    </tr>\n",
       "    <tr>\n",
       "      <th>50%</th>\n",
       "      <td>0.256510</td>\n",
       "      <td>0.000000</td>\n",
       "      <td>9.690000</td>\n",
       "      <td>0.000000</td>\n",
       "      <td>0.538000</td>\n",
       "      <td>6.208500</td>\n",
       "      <td>77.500000</td>\n",
       "      <td>3.207450</td>\n",
       "      <td>5.000000</td>\n",
       "      <td>330.000000</td>\n",
       "      <td>19.050000</td>\n",
       "      <td>391.440000</td>\n",
       "      <td>11.360000</td>\n",
       "    </tr>\n",
       "    <tr>\n",
       "      <th>75%</th>\n",
       "      <td>3.677083</td>\n",
       "      <td>12.500000</td>\n",
       "      <td>18.100000</td>\n",
       "      <td>0.000000</td>\n",
       "      <td>0.624000</td>\n",
       "      <td>6.623500</td>\n",
       "      <td>94.075000</td>\n",
       "      <td>5.188425</td>\n",
       "      <td>24.000000</td>\n",
       "      <td>666.000000</td>\n",
       "      <td>20.200000</td>\n",
       "      <td>396.225000</td>\n",
       "      <td>16.955000</td>\n",
       "    </tr>\n",
       "    <tr>\n",
       "      <th>max</th>\n",
       "      <td>88.976200</td>\n",
       "      <td>100.000000</td>\n",
       "      <td>27.740000</td>\n",
       "      <td>1.000000</td>\n",
       "      <td>0.871000</td>\n",
       "      <td>8.780000</td>\n",
       "      <td>100.000000</td>\n",
       "      <td>12.126500</td>\n",
       "      <td>24.000000</td>\n",
       "      <td>711.000000</td>\n",
       "      <td>22.000000</td>\n",
       "      <td>396.900000</td>\n",
       "      <td>37.970000</td>\n",
       "    </tr>\n",
       "  </tbody>\n",
       "</table>\n",
       "</div>"
      ],
      "text/plain": [
       "             CRIM          ZN       INDUS        CHAS         NOX          RM  \\\n",
       "count  506.000000  506.000000  506.000000  506.000000  506.000000  506.000000   \n",
       "mean     3.613524   11.363636   11.136779    0.069170    0.554695    6.284634   \n",
       "std      8.601545   23.322453    6.860353    0.253994    0.115878    0.702617   \n",
       "min      0.006320    0.000000    0.460000    0.000000    0.385000    3.561000   \n",
       "25%      0.082045    0.000000    5.190000    0.000000    0.449000    5.885500   \n",
       "50%      0.256510    0.000000    9.690000    0.000000    0.538000    6.208500   \n",
       "75%      3.677083   12.500000   18.100000    0.000000    0.624000    6.623500   \n",
       "max     88.976200  100.000000   27.740000    1.000000    0.871000    8.780000   \n",
       "\n",
       "              AGE         DIS         RAD         TAX     PTRATIO           B  \\\n",
       "count  506.000000  506.000000  506.000000  506.000000  506.000000  506.000000   \n",
       "mean    68.574901    3.795043    9.549407  408.237154   18.455534  356.674032   \n",
       "std     28.148861    2.105710    8.707259  168.537116    2.164946   91.294864   \n",
       "min      2.900000    1.129600    1.000000  187.000000   12.600000    0.320000   \n",
       "25%     45.025000    2.100175    4.000000  279.000000   17.400000  375.377500   \n",
       "50%     77.500000    3.207450    5.000000  330.000000   19.050000  391.440000   \n",
       "75%     94.075000    5.188425   24.000000  666.000000   20.200000  396.225000   \n",
       "max    100.000000   12.126500   24.000000  711.000000   22.000000  396.900000   \n",
       "\n",
       "            LSTAT  \n",
       "count  506.000000  \n",
       "mean    12.653063  \n",
       "std      7.141062  \n",
       "min      1.730000  \n",
       "25%      6.950000  \n",
       "50%     11.360000  \n",
       "75%     16.955000  \n",
       "max     37.970000  "
      ]
     },
     "execution_count": 10,
     "metadata": {},
     "output_type": "execute_result"
    }
   ],
   "source": [
    "df.describe(include=\"all\")"
   ]
  },
  {
   "cell_type": "code",
   "execution_count": 11,
   "id": "34bc4801",
   "metadata": {},
   "outputs": [],
   "source": [
    "x_train, x_test, y_train, y_test = train_test_split(df, y, test_size=0.3, random_state=5)"
   ]
  },
  {
   "cell_type": "code",
   "execution_count": 12,
   "id": "9c8ffea5",
   "metadata": {},
   "outputs": [],
   "source": [
    "model=LinearRegression()"
   ]
  },
  {
   "cell_type": "code",
   "execution_count": 13,
   "id": "159e4a5f",
   "metadata": {},
   "outputs": [
    {
     "data": {
      "text/plain": [
       "LinearRegression()"
      ]
     },
     "execution_count": 13,
     "metadata": {},
     "output_type": "execute_result"
    }
   ],
   "source": [
    "model.fit(x_train,y_train)"
   ]
  },
  {
   "cell_type": "code",
   "execution_count": 14,
   "id": "9dd7308c",
   "metadata": {},
   "outputs": [],
   "source": [
    "y_pred=model.predict(x_test)"
   ]
  },
  {
   "cell_type": "code",
   "execution_count": 15,
   "id": "c3362910",
   "metadata": {},
   "outputs": [
    {
     "data": {
      "text/plain": [
       "30.69703770408852"
      ]
     },
     "execution_count": 15,
     "metadata": {},
     "output_type": "execute_result"
    }
   ],
   "source": [
    "mean_squared_error(y_test,y_pred)"
   ]
  },
  {
   "cell_type": "markdown",
   "id": "ec6da6d4",
   "metadata": {},
   "source": [
    "# Lasso"
   ]
  },
  {
   "cell_type": "code",
   "execution_count": 16,
   "id": "ca466d0d",
   "metadata": {},
   "outputs": [],
   "source": [
    "ls=Lasso()"
   ]
  },
  {
   "cell_type": "code",
   "execution_count": 17,
   "id": "6d17dbae",
   "metadata": {},
   "outputs": [
    {
     "data": {
      "text/plain": [
       "Lasso()"
      ]
     },
     "execution_count": 17,
     "metadata": {},
     "output_type": "execute_result"
    }
   ],
   "source": [
    "ls.fit(x_train,y_train)"
   ]
  },
  {
   "cell_type": "code",
   "execution_count": 18,
   "id": "1e5e0d3f",
   "metadata": {},
   "outputs": [],
   "source": [
    "yl_pred=ls.predict(x_test)"
   ]
  },
  {
   "cell_type": "code",
   "execution_count": 19,
   "id": "69487bb1",
   "metadata": {},
   "outputs": [
    {
     "data": {
      "text/plain": [
       "36.30879918486973"
      ]
     },
     "execution_count": 19,
     "metadata": {},
     "output_type": "execute_result"
    }
   ],
   "source": [
    "mean_squared_error(y_test,yl_pred)"
   ]
  },
  {
   "cell_type": "markdown",
   "id": "6b888b32",
   "metadata": {},
   "source": [
    "# Ridge"
   ]
  },
  {
   "cell_type": "code",
   "execution_count": 20,
   "id": "4a31401b",
   "metadata": {},
   "outputs": [],
   "source": [
    "rd=Ridge()"
   ]
  },
  {
   "cell_type": "code",
   "execution_count": 21,
   "id": "65058b37",
   "metadata": {},
   "outputs": [
    {
     "data": {
      "text/plain": [
       "Ridge()"
      ]
     },
     "execution_count": 21,
     "metadata": {},
     "output_type": "execute_result"
    }
   ],
   "source": [
    "rd.fit(x_train,y_train)"
   ]
  },
  {
   "cell_type": "code",
   "execution_count": 22,
   "id": "71a2285d",
   "metadata": {},
   "outputs": [],
   "source": [
    "yr_pred=rd.predict(x_test)"
   ]
  },
  {
   "cell_type": "code",
   "execution_count": 23,
   "id": "e6f902dd",
   "metadata": {},
   "outputs": [
    {
     "data": {
      "text/plain": [
       "31.508451580046994"
      ]
     },
     "execution_count": 23,
     "metadata": {},
     "output_type": "execute_result"
    }
   ],
   "source": [
    "mean_squared_error(y_test,yr_pred)"
   ]
  },
  {
   "cell_type": "markdown",
   "id": "80e3e244",
   "metadata": {},
   "source": [
    "### Run for loop to get best value of alpha (manual hyperparameter tuning)"
   ]
  },
  {
   "cell_type": "code",
   "execution_count": 24,
   "id": "42253bba",
   "metadata": {
    "scrolled": true
   },
   "outputs": [
    {
     "name": "stdout",
     "output_type": "stream",
     "text": [
      "The parameter 0.001 gives mse as: 30.69834083194971\n",
      "The parameter 0.002 gives mse as: 30.69964260345274\n",
      "The parameter 0.003 gives mse as: 30.700943019032792\n",
      "The parameter 0.004 gives mse as: 30.70224207913737\n",
      "The parameter 0.005 gives mse as: 30.703539784226347\n",
      "The parameter 0.006 gives mse as: 30.70483613477196\n",
      "The parameter 0.007 gives mse as: 30.706131131258434\n",
      "The parameter 0.008 gives mse as: 30.707424774182083\n",
      "The parameter 0.009 gives mse as: 30.708717064051022\n",
      "The parameter 0.01 gives mse as: 30.71000800138516\n"
     ]
    }
   ],
   "source": [
    "for i in range(1,11):\n",
    "    rd = Ridge(alpha=i/1000)\n",
    "    rd.fit(x_train,y_train)\n",
    "    rd_pred = rd.predict(x_test)\n",
    "    print(f'The parameter {i/1000} gives mse as: {mean_squared_error(y_test, rd_pred)}')"
   ]
  },
  {
   "cell_type": "code",
   "execution_count": 25,
   "id": "7de49fa2",
   "metadata": {},
   "outputs": [
    {
     "name": "stdout",
     "output_type": "stream",
     "text": [
      "The parameter 1e-19 gives mse as: 30.697037704088597\n",
      "The parameter 1e-17 gives mse as: 30.697037704088597\n",
      "The parameter 1e-15 gives mse as: 30.697037704088615\n",
      "The parameter 1e-13 gives mse as: 30.697037704088732\n",
      "The parameter 1e-11 gives mse as: 30.69703770410165\n",
      "The parameter 1e-09 gives mse as: 30.697037705392404\n",
      "The parameter 1e-07 gives mse as: 30.69703783446922\n",
      "The parameter 1e-05 gives mse as: 30.697050742082585\n",
      "The parameter 0.001 gives mse as: 30.69834083194971\n",
      "The parameter 0.1 gives mse as: 30.820747242092835\n",
      "The parameter 0.3 gives mse as: 31.031456805553454\n",
      "The parameter 0.5 gives mse as: 31.20190362664289\n",
      "The parameter 0.7 gives mse as: 31.34151924840877\n",
      "The parameter 0.9 gives mse as: 31.457550996385134\n",
      "The parameter 1 gives mse as: 31.508451580046994\n",
      "The parameter 2 gives mse as: 31.85418867376832\n",
      "The parameter 3 gives mse as: 32.04434457950862\n",
      "The parameter 4 gives mse as: 32.165865258808786\n",
      "The parameter 5 gives mse as: 32.25127809748187\n",
      "The parameter 6 gives mse as: 32.315420246055005\n",
      "The parameter 7 gives mse as: 32.366017772369894\n",
      "The parameter 8 gives mse as: 32.40749074314786\n",
      "The parameter 9 gives mse as: 32.442551580929624\n",
      "The parameter 10 gives mse as: 32.47295738608792\n",
      "The parameter 20 gives mse as: 32.67184118432276\n",
      "The parameter 30 gives mse as: 32.81936682008611\n",
      "The parameter 40 gives mse as: 32.959948706390975\n",
      "The parameter 50 gives mse as: 33.09900076106853\n",
      "The parameter 60 gives mse as: 33.23632446664475\n",
      "The parameter 70 gives mse as: 33.37095803656294\n",
      "The parameter 80 gives mse as: 33.502101393372776\n",
      "The parameter 90 gives mse as: 33.62924525942798\n",
      "The parameter 100 gives mse as: 33.75212788003305\n",
      "The parameter 200 gives mse as: 34.76350595406956\n",
      "The parameter 300 gives mse as: 35.49951382249146\n",
      "The parameter 400 gives mse as: 36.08336294621527\n",
      "The parameter 500 gives mse as: 36.57644256148671\n"
     ]
    }
   ],
   "source": [
    "parameters = [1e-19,1e-17,1e-15,1e-13, 1e-11, 1e-9,1e-7,1e-5,1e-3,1e-1,0.3,0.5,0.7,0.9,1,2,3,4,5,6,7,8,9,10,20,30,40,50,60,70,80,90,100,200,300,400,500]\n",
    "for i in parameters:\n",
    "    rd = Ridge(alpha=i)\n",
    "    rd.fit(x_train,y_train)\n",
    "    rd_pred = rd.predict(x_test)\n",
    "    print(f'The parameter {i} gives mse as: {mean_squared_error(y_test, rd_pred)}')"
   ]
  },
  {
   "cell_type": "code",
   "execution_count": 26,
   "id": "cd8c6cb7",
   "metadata": {},
   "outputs": [
    {
     "name": "stdout",
     "output_type": "stream",
     "text": [
      "The parameter 1 gives mse as: 30.697037704088615\n"
     ]
    }
   ],
   "source": [
    "rd = Ridge(alpha= 1e-15)\n",
    "rd.fit(x_train,y_train)\n",
    "rd_pred = rd.predict(x_test)\n",
    "print(f'The parameter 1 gives mse as: {mean_squared_error(y_test, rd_pred)}')"
   ]
  },
  {
   "cell_type": "code",
   "execution_count": 27,
   "id": "c2cc67f9",
   "metadata": {
    "scrolled": true
   },
   "outputs": [
    {
     "name": "stdout",
     "output_type": "stream",
     "text": [
      "The parameter 1e-19 gives mse as: 30.697037704088615\n",
      "The parameter 1e-17 gives mse as: 30.697037704088615\n",
      "The parameter 1e-15 gives mse as: 30.697037704088615\n",
      "The parameter 1e-13 gives mse as: 30.697037704088615\n",
      "The parameter 1e-11 gives mse as: 30.697037704088615\n",
      "The parameter 1e-09 gives mse as: 30.697037704088615\n",
      "The parameter 1e-07 gives mse as: 30.697037704088615\n",
      "The parameter 1e-05 gives mse as: 30.697037704088615\n",
      "The parameter 0.001 gives mse as: 30.697037704088615\n",
      "The parameter 0.1 gives mse as: 30.697037704088615\n",
      "The parameter 0.3 gives mse as: 30.697037704088615\n",
      "The parameter 0.5 gives mse as: 30.697037704088615\n",
      "The parameter 0.7 gives mse as: 30.697037704088615\n",
      "The parameter 0.9 gives mse as: 30.697037704088615\n",
      "The parameter 1 gives mse as: 30.697037704088615\n",
      "The parameter 2 gives mse as: 30.697037704088615\n",
      "The parameter 3 gives mse as: 30.697037704088615\n",
      "The parameter 4 gives mse as: 30.697037704088615\n",
      "The parameter 5 gives mse as: 30.697037704088615\n",
      "The parameter 6 gives mse as: 30.697037704088615\n",
      "The parameter 7 gives mse as: 30.697037704088615\n",
      "The parameter 8 gives mse as: 30.697037704088615\n",
      "The parameter 9 gives mse as: 30.697037704088615\n",
      "The parameter 10 gives mse as: 30.697037704088615\n",
      "The parameter 20 gives mse as: 30.697037704088615\n",
      "The parameter 30 gives mse as: 30.697037704088615\n",
      "The parameter 40 gives mse as: 30.697037704088615\n",
      "The parameter 50 gives mse as: 30.697037704088615\n",
      "The parameter 60 gives mse as: 30.697037704088615\n",
      "The parameter 70 gives mse as: 30.697037704088615\n",
      "The parameter 80 gives mse as: 30.697037704088615\n",
      "The parameter 90 gives mse as: 30.697037704088615\n",
      "The parameter 100 gives mse as: 30.697037704088615\n",
      "The parameter 200 gives mse as: 30.697037704088615\n",
      "The parameter 300 gives mse as: 30.697037704088615\n",
      "The parameter 400 gives mse as: 30.697037704088615\n",
      "The parameter 500 gives mse as: 30.697037704088615\n"
     ]
    }
   ],
   "source": [
    "parameters = [1e-19,1e-17,1e-15,1e-13, 1e-11, 1e-9,1e-7,1e-5,1e-3,1e-1,0.3,0.5,0.7,0.9,1,2,3,4,5,6,7,8,9,10,20,30,40,50,60,70,80,90,100,200,300,400,500]\n",
    "for i in parameters:\n",
    "    ls = Lasso(alpha=i)\n",
    "    ls.fit(x_train,y_train)\n",
    "    ls_pred = ls.predict(x_test)\n",
    "    print(f'The parameter {i} gives mse as: {mean_squared_error(y_test, rd_pred)}')"
   ]
  },
  {
   "cell_type": "code",
   "execution_count": 28,
   "id": "25e4f386",
   "metadata": {},
   "outputs": [
    {
     "name": "stdout",
     "output_type": "stream",
     "text": [
      "The parameter 1e-19 gives mse as: 30.697037704088537\n",
      "The parameter 1e-17 gives mse as: 30.697037704088565\n",
      "The parameter 1e-15 gives mse as: 30.697037704088654\n",
      "The parameter 1e-13 gives mse as: 30.697037704093525\n",
      "The parameter 1e-11 gives mse as: 30.697037704582034\n",
      "The parameter 1e-09 gives mse as: 30.69703775343377\n",
      "The parameter 1e-07 gives mse as: 30.697042638607638\n",
      "The parameter 1e-05 gives mse as: 30.69753121006688\n",
      "The parameter 0.001 gives mse as: 30.746936231274503\n",
      "The parameter 0.1 gives mse as: 33.007037693263825\n",
      "The parameter 0.3 gives mse as: 33.12240060816447\n",
      "The parameter 0.5 gives mse as: 33.595278530600645\n",
      "The parameter 0.7 gives mse as: 34.43615887923861\n",
      "The parameter 0.9 gives mse as: 35.59838828014023\n",
      "The parameter 1 gives mse as: 36.30879918486973\n",
      "The parameter 2 gives mse as: 41.36738411714082\n",
      "The parameter 3 gives mse as: 43.54285917371675\n",
      "The parameter 4 gives mse as: 46.03802217842866\n",
      "The parameter 5 gives mse as: 47.351470521619355\n",
      "The parameter 6 gives mse as: 48.402980969891054\n",
      "The parameter 7 gives mse as: 49.558768213295615\n",
      "The parameter 8 gives mse as: 50.51187995949727\n",
      "The parameter 9 gives mse as: 51.24827351479123\n",
      "The parameter 10 gives mse as: 52.04252676056099\n",
      "The parameter 20 gives mse as: 63.16751142847441\n",
      "The parameter 30 gives mse as: 76.80662402516698\n",
      "The parameter 40 gives mse as: 78.2045913300703\n",
      "The parameter 50 gives mse as: 79.53226415303025\n",
      "The parameter 60 gives mse as: 79.7558185871333\n",
      "The parameter 70 gives mse as: 80.00418864875859\n",
      "The parameter 80 gives mse as: 80.27747914428902\n",
      "The parameter 90 gives mse as: 80.57542097362087\n",
      "The parameter 100 gives mse as: 80.89831370338298\n",
      "The parameter 200 gives mse as: 81.36778833860605\n",
      "The parameter 300 gives mse as: 82.19118732797374\n",
      "The parameter 400 gives mse as: 83.68972257558946\n",
      "The parameter 500 gives mse as: 85.8633940814532\n"
     ]
    }
   ],
   "source": [
    "parameters = [1e-19,1e-17,1e-15,1e-13, 1e-11, 1e-9,1e-7,1e-5,1e-3,1e-1,0.3,0.5,0.7,0.9,1,2,3,4,5,6,7,8,9,10,20,30,40,50,60,70,80,90,100,200,300,400,500]\n",
    "for i in parameters:\n",
    "    ls = Lasso(alpha=i)\n",
    "    ls.fit(x_train,y_train)\n",
    "    ls_pred = ls.predict(x_test)\n",
    "    print(f'The parameter {i} gives mse as: {mean_squared_error(y_test, ls_pred)}')"
   ]
  },
  {
   "cell_type": "markdown",
   "id": "0893c2f6",
   "metadata": {},
   "source": [
    "### Hyperparameter tuning using GridSearchCV"
   ]
  },
  {
   "cell_type": "code",
   "execution_count": 36,
   "id": "42aed0de",
   "metadata": {},
   "outputs": [
    {
     "data": {
      "text/plain": [
       "GridSearchCV(cv=10, estimator=Lasso(alpha=500),\n",
       "             param_grid={'alpha': [1e-19, 1e-17, 1e-15, 1e-13, 1e-11, 1e-09,\n",
       "                                   1e-07, 1e-05, 0.001, 0.1, 0.3, 0.5, 0.7, 0.9,\n",
       "                                   1, 2, 3, 4, 5, 6, 7, 8, 9, 10, 20, 30, 40,\n",
       "                                   50, 60, 70, ...]})"
      ]
     },
     "execution_count": 36,
     "metadata": {},
     "output_type": "execute_result"
    }
   ],
   "source": [
    "# Complete it as homework\n",
    "from sklearn.model_selection import GridSearchCV\n",
    "params={\"alpha\":parameters}\n",
    "gcv = GridSearchCV(estimator=ls, param_grid=params, cv=10)\n",
    "gcv.fit(df,y)"
   ]
  },
  {
   "cell_type": "code",
   "execution_count": 38,
   "id": "c8d76066",
   "metadata": {},
   "outputs": [
    {
     "data": {
      "text/plain": [
       "{'alpha': 0.3}"
      ]
     },
     "execution_count": 38,
     "metadata": {},
     "output_type": "execute_result"
    }
   ],
   "source": [
    "gcv.best_params_"
   ]
  },
  {
   "cell_type": "code",
   "execution_count": 39,
   "id": "9009d82e",
   "metadata": {},
   "outputs": [
    {
     "data": {
      "text/plain": [
       "GridSearchCV(cv=10, estimator=Ridge(alpha=1e-15),\n",
       "             param_grid={'alpha': [1e-19, 1e-17, 1e-15, 1e-13, 1e-11, 1e-09,\n",
       "                                   1e-07, 1e-05, 0.001, 0.1, 0.3, 0.5, 0.7, 0.9,\n",
       "                                   1, 2, 3, 4, 5, 6, 7, 8, 9, 10, 20, 30, 40,\n",
       "                                   50, 60, 70, ...]})"
      ]
     },
     "execution_count": 39,
     "metadata": {},
     "output_type": "execute_result"
    }
   ],
   "source": [
    "gcv = GridSearchCV(estimator=rd, param_grid=params, cv=10)\n",
    "gcv.fit(df,y)"
   ]
  },
  {
   "cell_type": "code",
   "execution_count": 40,
   "id": "d67f8b94",
   "metadata": {},
   "outputs": [
    {
     "data": {
      "text/plain": [
       "{'alpha': 40}"
      ]
     },
     "execution_count": 40,
     "metadata": {},
     "output_type": "execute_result"
    }
   ],
   "source": [
    "gcv.best_params_"
   ]
  }
 ],
 "metadata": {
  "kernelspec": {
   "display_name": "Python 3 (ipykernel)",
   "language": "python",
   "name": "python3"
  },
  "language_info": {
   "codemirror_mode": {
    "name": "ipython",
    "version": 3
   },
   "file_extension": ".py",
   "mimetype": "text/x-python",
   "name": "python",
   "nbconvert_exporter": "python",
   "pygments_lexer": "ipython3",
   "version": "3.9.12"
  }
 },
 "nbformat": 4,
 "nbformat_minor": 5
}
